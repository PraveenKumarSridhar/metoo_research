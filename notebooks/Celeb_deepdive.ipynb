{
 "cells": [
  {
   "cell_type": "code",
   "execution_count": 1,
   "id": "867bf8a4-be94-494c-908b-746e9d903491",
   "metadata": {},
   "outputs": [],
   "source": [
    "import pandas as pd\n",
    "from math import ceil, floor\n",
    "import matplotlib.pyplot as plt\n",
    "import seaborn as sns\n",
    "import json\n",
    "import matplotlib\n",
    "from matplotlib import ticker\n",
    "%matplotlib inline"
   ]
  },
  {
   "cell_type": "code",
   "execution_count": 2,
   "id": "bd0f08b4-e418-4a71-b69d-520da6ef4f7e",
   "metadata": {},
   "outputs": [
    {
     "name": "stderr",
     "output_type": "stream",
     "text": [
      "/shared/centos7/anaconda3/2021.05/lib/python3.8/site-packages/numpy/lib/arraysetops.py:583: FutureWarning: elementwise comparison failed; returning scalar instead, but in the future will perform elementwise comparison\n",
      "  mask |= (ar1 == a)\n"
     ]
    }
   ],
   "source": [
    "data = pd.read_csv(\"../components/artifacts/postprocess_data.csv\", sep = \"\\t\", index_col = 0)\n",
    "data[\"Date\"] = pd.to_datetime(data[\"Date\"])\n",
    "data[\"Gender\"] = data[\"Gender\"].astype(\"category\")\n",
    "data[\"Account Type\"] = data[\"Account Type\"].astype(\"category\")\n",
    "data[\"Tweet Type\"] = pd.Categorical(values = data[\"Tweet Type\"], categories = [\"share\", \"reply\", \"post\"], ordered = True)"
   ]
  },
  {
   "cell_type": "code",
   "execution_count": 4,
   "id": "e62908ff-102b-48ce-8289-5260d15b7867",
   "metadata": {},
   "outputs": [
    {
     "data": {
      "text/html": [
       "<div>\n",
       "<style scoped>\n",
       "    .dataframe tbody tr th:only-of-type {\n",
       "        vertical-align: middle;\n",
       "    }\n",
       "\n",
       "    .dataframe tbody tr th {\n",
       "        vertical-align: top;\n",
       "    }\n",
       "\n",
       "    .dataframe thead th {\n",
       "        text-align: right;\n",
       "    }\n",
       "</style>\n",
       "<table border=\"1\" class=\"dataframe\">\n",
       "  <thead>\n",
       "    <tr style=\"text-align: right;\">\n",
       "      <th></th>\n",
       "      <th>Date</th>\n",
       "      <th>Page Type</th>\n",
       "      <th>Author</th>\n",
       "      <th>Full Name</th>\n",
       "      <th>Full Text</th>\n",
       "      <th>Hashtags</th>\n",
       "      <th>Impact</th>\n",
       "      <th>Impressions</th>\n",
       "      <th>Tweet Type</th>\n",
       "      <th>Thread Author</th>\n",
       "      <th>...</th>\n",
       "      <th>screen</th>\n",
       "      <th>Gender</th>\n",
       "      <th>Account Type</th>\n",
       "      <th>Ethnicity</th>\n",
       "      <th>followers_count</th>\n",
       "      <th>screen_originator</th>\n",
       "      <th>Gender_originator</th>\n",
       "      <th>Account Type_originator</th>\n",
       "      <th>Ethnicity_originator</th>\n",
       "      <th>followers_count_originator</th>\n",
       "    </tr>\n",
       "  </thead>\n",
       "  <tbody>\n",
       "    <tr>\n",
       "      <th>0</th>\n",
       "      <td>2017-12-06 23:59:59</td>\n",
       "      <td>twitter</td>\n",
       "      <td>William82861606</td>\n",
       "      <td>William82861606 (William)</td>\n",
       "      <td>funder conyers resigned franken resigning tomo...</td>\n",
       "      <td>#trumpsexprobe, #metoo</td>\n",
       "      <td>0.0</td>\n",
       "      <td>282.0</td>\n",
       "      <td>share</td>\n",
       "      <td>funder</td>\n",
       "      <td>...</td>\n",
       "      <td>William82861606</td>\n",
       "      <td>male</td>\n",
       "      <td>core</td>\n",
       "      <td>Asian</td>\n",
       "      <td>2548.0</td>\n",
       "      <td>funder</td>\n",
       "      <td>male</td>\n",
       "      <td>influencer</td>\n",
       "      <td>White</td>\n",
       "      <td>336269.0</td>\n",
       "    </tr>\n",
       "    <tr>\n",
       "      <th>1</th>\n",
       "      <td>2017-12-06 23:59:58</td>\n",
       "      <td>twitter</td>\n",
       "      <td>Artis_Elemental</td>\n",
       "      <td>Artis_Elemental (ART...Is)</td>\n",
       "      <td>alyssa_milano list sexual misconduct allegatio...</td>\n",
       "      <td>#metoo</td>\n",
       "      <td>24.5</td>\n",
       "      <td>5578.0</td>\n",
       "      <td>share</td>\n",
       "      <td>Alyssa_Milano</td>\n",
       "      <td>...</td>\n",
       "      <td>Artis_Elemental</td>\n",
       "      <td>male</td>\n",
       "      <td>core</td>\n",
       "      <td>Black</td>\n",
       "      <td>7217.0</td>\n",
       "      <td>Alyssa_Milano</td>\n",
       "      <td>NaN</td>\n",
       "      <td>celebrity</td>\n",
       "      <td>NaN</td>\n",
       "      <td>3698114.0</td>\n",
       "    </tr>\n",
       "    <tr>\n",
       "      <th>2</th>\n",
       "      <td>2017-12-06 23:59:57</td>\n",
       "      <td>twitter</td>\n",
       "      <td>lanah03</td>\n",
       "      <td>lanah03 (Laura Hopkins)</td>\n",
       "      <td>deepinthehills sobbing silent longer</td>\n",
       "      <td>#metoo</td>\n",
       "      <td>5.4</td>\n",
       "      <td>2713.0</td>\n",
       "      <td>share</td>\n",
       "      <td>DeepInTheHills</td>\n",
       "      <td>...</td>\n",
       "      <td>lanah03</td>\n",
       "      <td>female</td>\n",
       "      <td>core</td>\n",
       "      <td>Black</td>\n",
       "      <td>2775.0</td>\n",
       "      <td>NaN</td>\n",
       "      <td>NaN</td>\n",
       "      <td>NaN</td>\n",
       "      <td>NaN</td>\n",
       "      <td>NaN</td>\n",
       "    </tr>\n",
       "    <tr>\n",
       "      <th>3</th>\n",
       "      <td>2017-12-06 23:59:55</td>\n",
       "      <td>twitter</td>\n",
       "      <td>lidskawasaki</td>\n",
       "      <td>lidskawasaki (dearlordbabyjesus)</td>\n",
       "      <td>alyssa_milano time asking franken resign senat...</td>\n",
       "      <td>#timepersonoftheyear, #metoo</td>\n",
       "      <td>0.0</td>\n",
       "      <td>330.0</td>\n",
       "      <td>share</td>\n",
       "      <td>Alyssa_Milano</td>\n",
       "      <td>...</td>\n",
       "      <td>lidskawasaki</td>\n",
       "      <td>female</td>\n",
       "      <td>core</td>\n",
       "      <td>Black</td>\n",
       "      <td>655.0</td>\n",
       "      <td>Alyssa_Milano</td>\n",
       "      <td>NaN</td>\n",
       "      <td>celebrity</td>\n",
       "      <td>NaN</td>\n",
       "      <td>3698114.0</td>\n",
       "    </tr>\n",
       "    <tr>\n",
       "      <th>4</th>\n",
       "      <td>2017-12-06 23:59:54</td>\n",
       "      <td>twitter</td>\n",
       "      <td>IAmMeliLopez</td>\n",
       "      <td>IAmMeliLopez (Melissa Lopez)</td>\n",
       "      <td>nycchr public hearing begun stories deserve he...</td>\n",
       "      <td>#sexualharassment, #metoo</td>\n",
       "      <td>0.0</td>\n",
       "      <td>13.0</td>\n",
       "      <td>share</td>\n",
       "      <td>NYCCHR</td>\n",
       "      <td>...</td>\n",
       "      <td>IAmMeliLopez</td>\n",
       "      <td>female</td>\n",
       "      <td>core</td>\n",
       "      <td>Asian</td>\n",
       "      <td>18.0</td>\n",
       "      <td>NYCCHR</td>\n",
       "      <td>male</td>\n",
       "      <td>core</td>\n",
       "      <td>Black</td>\n",
       "      <td>12572.0</td>\n",
       "    </tr>\n",
       "  </tbody>\n",
       "</table>\n",
       "<p>5 rows × 38 columns</p>\n",
       "</div>"
      ],
      "text/plain": [
       "                 Date Page Type           Author  \\\n",
       "0 2017-12-06 23:59:59   twitter  William82861606   \n",
       "1 2017-12-06 23:59:58   twitter  Artis_Elemental   \n",
       "2 2017-12-06 23:59:57   twitter          lanah03   \n",
       "3 2017-12-06 23:59:55   twitter     lidskawasaki   \n",
       "4 2017-12-06 23:59:54   twitter     IAmMeliLopez   \n",
       "\n",
       "                          Full Name  \\\n",
       "0         William82861606 (William)   \n",
       "1        Artis_Elemental (ART...Is)   \n",
       "2           lanah03 (Laura Hopkins)   \n",
       "3  lidskawasaki (dearlordbabyjesus)   \n",
       "4      IAmMeliLopez (Melissa Lopez)   \n",
       "\n",
       "                                           Full Text  \\\n",
       "0  funder conyers resigned franken resigning tomo...   \n",
       "1  alyssa_milano list sexual misconduct allegatio...   \n",
       "2               deepinthehills sobbing silent longer   \n",
       "3  alyssa_milano time asking franken resign senat...   \n",
       "4  nycchr public hearing begun stories deserve he...   \n",
       "\n",
       "                       Hashtags  Impact  Impressions Tweet Type  \\\n",
       "0        #trumpsexprobe, #metoo     0.0        282.0      share   \n",
       "1                        #metoo    24.5       5578.0      share   \n",
       "2                        #metoo     5.4       2713.0      share   \n",
       "3  #timepersonoftheyear, #metoo     0.0        330.0      share   \n",
       "4     #sexualharassment, #metoo     0.0         13.0      share   \n",
       "\n",
       "    Thread Author  ...           screen  Gender  Account Type  Ethnicity  \\\n",
       "0          funder  ...  William82861606    male          core      Asian   \n",
       "1   Alyssa_Milano  ...  Artis_Elemental    male          core      Black   \n",
       "2  DeepInTheHills  ...          lanah03  female          core      Black   \n",
       "3   Alyssa_Milano  ...     lidskawasaki  female          core      Black   \n",
       "4          NYCCHR  ...     IAmMeliLopez  female          core      Asian   \n",
       "\n",
       "   followers_count  screen_originator  Gender_originator  \\\n",
       "0           2548.0             funder               male   \n",
       "1           7217.0      Alyssa_Milano                NaN   \n",
       "2           2775.0                NaN                NaN   \n",
       "3            655.0      Alyssa_Milano                NaN   \n",
       "4             18.0             NYCCHR               male   \n",
       "\n",
       "  Account Type_originator  Ethnicity_originator  followers_count_originator  \n",
       "0              influencer                 White                    336269.0  \n",
       "1               celebrity                   NaN                   3698114.0  \n",
       "2                     NaN                   NaN                         NaN  \n",
       "3               celebrity                   NaN                   3698114.0  \n",
       "4                    core                 Black                     12572.0  \n",
       "\n",
       "[5 rows x 38 columns]"
      ]
     },
     "execution_count": 4,
     "metadata": {},
     "output_type": "execute_result"
    }
   ],
   "source": [
    "data.head()"
   ]
  },
  {
   "cell_type": "code",
   "execution_count": 5,
   "id": "43c9c992-8cfd-405f-b353-d49cd4766b40",
   "metadata": {},
   "outputs": [
    {
     "data": {
      "text/plain": [
       "Index(['Date', 'Page Type', 'Author', 'Full Name', 'Full Text', 'Hashtags',\n",
       "       'Impact', 'Impressions', 'Tweet Type', 'Thread Author',\n",
       "       'Twitter Followers', 'Twitter Following', 'Twitter Tweets',\n",
       "       'Twitter Reply Count', 'Twitter Verified', 'Twitter Retweets',\n",
       "       'Reach (new)', 'Region', 'topic_1', 'topic_2', 'topic_3', 'topic_4',\n",
       "       'topic_5', 'topic_6', 'topic_7', 'topic_8', 'topic_9', 'topic_10',\n",
       "       'screen', 'Gender', 'Account Type', 'Ethnicity', 'followers_count',\n",
       "       'screen_originator', 'Gender_originator', 'Account Type_originator',\n",
       "       'Ethnicity_originator', 'followers_count_originator'],\n",
       "      dtype='object')"
      ]
     },
     "execution_count": 5,
     "metadata": {},
     "output_type": "execute_result"
    }
   ],
   "source": [
    "data.columns"
   ]
  },
  {
   "cell_type": "code",
   "execution_count": 7,
   "id": "7a60f370-c44a-43fd-a9ff-8f4605a22ac3",
   "metadata": {},
   "outputs": [
    {
     "data": {
      "text/html": [
       "<div>\n",
       "<style scoped>\n",
       "    .dataframe tbody tr th:only-of-type {\n",
       "        vertical-align: middle;\n",
       "    }\n",
       "\n",
       "    .dataframe tbody tr th {\n",
       "        vertical-align: top;\n",
       "    }\n",
       "\n",
       "    .dataframe thead th {\n",
       "        text-align: right;\n",
       "    }\n",
       "</style>\n",
       "<table border=\"1\" class=\"dataframe\">\n",
       "  <thead>\n",
       "    <tr style=\"text-align: right;\">\n",
       "      <th></th>\n",
       "      <th>Author</th>\n",
       "      <th>Gender</th>\n",
       "      <th>Account Type</th>\n",
       "      <th>Ethnicity</th>\n",
       "      <th>followers_count</th>\n",
       "    </tr>\n",
       "  </thead>\n",
       "  <tbody>\n",
       "    <tr>\n",
       "      <th>0</th>\n",
       "      <td>William82861606</td>\n",
       "      <td>male</td>\n",
       "      <td>core</td>\n",
       "      <td>Asian</td>\n",
       "      <td>2548.0</td>\n",
       "    </tr>\n",
       "    <tr>\n",
       "      <th>1</th>\n",
       "      <td>Artis_Elemental</td>\n",
       "      <td>male</td>\n",
       "      <td>core</td>\n",
       "      <td>Black</td>\n",
       "      <td>7217.0</td>\n",
       "    </tr>\n",
       "    <tr>\n",
       "      <th>2</th>\n",
       "      <td>lanah03</td>\n",
       "      <td>female</td>\n",
       "      <td>core</td>\n",
       "      <td>Black</td>\n",
       "      <td>2775.0</td>\n",
       "    </tr>\n",
       "    <tr>\n",
       "      <th>3</th>\n",
       "      <td>lidskawasaki</td>\n",
       "      <td>female</td>\n",
       "      <td>core</td>\n",
       "      <td>Black</td>\n",
       "      <td>655.0</td>\n",
       "    </tr>\n",
       "    <tr>\n",
       "      <th>4</th>\n",
       "      <td>IAmMeliLopez</td>\n",
       "      <td>female</td>\n",
       "      <td>core</td>\n",
       "      <td>Asian</td>\n",
       "      <td>18.0</td>\n",
       "    </tr>\n",
       "  </tbody>\n",
       "</table>\n",
       "</div>"
      ],
      "text/plain": [
       "            Author  Gender Account Type Ethnicity  followers_count\n",
       "0  William82861606    male         core     Asian           2548.0\n",
       "1  Artis_Elemental    male         core     Black           7217.0\n",
       "2          lanah03  female         core     Black           2775.0\n",
       "3     lidskawasaki  female         core     Black            655.0\n",
       "4     IAmMeliLopez  female         core     Asian             18.0"
      ]
     },
     "execution_count": 7,
     "metadata": {},
     "output_type": "execute_result"
    }
   ],
   "source": [
    "analysis_data = data[['Author','Gender', 'Account Type', 'Ethnicity', 'followers_count']]\n",
    "analysis_data.head()"
   ]
  },
  {
   "cell_type": "code",
   "execution_count": 8,
   "id": "6410901d-bdbe-4027-9d0f-919ef2f6356c",
   "metadata": {},
   "outputs": [
    {
     "data": {
      "text/plain": [
       "['core', 'influencer', 'organisational', 'news', 'celebrity', 'business']\n",
       "Categories (6, object): ['core', 'influencer', 'organisational', 'news', 'celebrity', 'business']"
      ]
     },
     "execution_count": 8,
     "metadata": {},
     "output_type": "execute_result"
    }
   ],
   "source": [
    "analysis_data['Account Type'].unique()"
   ]
  },
  {
   "cell_type": "code",
   "execution_count": 14,
   "id": "b1f2db3e-6ad4-43ae-a8a2-2436c65ee6bc",
   "metadata": {},
   "outputs": [
    {
     "name": "stdout",
     "output_type": "stream",
     "text": [
      "            Author  Gender Account Type Ethnicity  followers_count\n",
      "19      MrDane1982    male   influencer     Black          75466.0\n",
      "20  MaryKeithBare1  female   influencer     Black          20276.0\n",
      "57  haymarketbooks    male   influencer     Black          72696.0\n",
      "91  stacy_redvirgo    male   influencer     Black          31145.0\n",
      "92     Politics_PR    male   influencer     White         226211.0\n"
     ]
    },
    {
     "data": {
      "text/plain": [
       "count      400275.000000\n",
       "mean        70209.401786\n",
       "std        193713.729972\n",
       "min         20002.000000\n",
       "25%         26444.000000\n",
       "50%         37720.000000\n",
       "75%         62570.000000\n",
       "max      79756787.000000\n",
       "Name: followers_count, dtype: object"
      ]
     },
     "execution_count": 14,
     "metadata": {},
     "output_type": "execute_result"
    }
   ],
   "source": [
    "influencers = analysis_data[analysis_data['Account Type'] == 'influencer']\n",
    "print(influencers.head(5))\n",
    "influencers['followers_count'].describe().apply(lambda x: format(x, 'f'))"
   ]
  },
  {
   "cell_type": "code",
   "execution_count": 62,
   "id": "020272f0-1a37-4c52-85ae-b784feb7268e",
   "metadata": {},
   "outputs": [],
   "source": [
    "import matplotlib.ticker as tick\n",
    "\n",
    "def reformat_large_tick_values(tick_val, pos):\n",
    "    \"\"\"\n",
    "    Turns large tick values (in the billions, millions and thousands) such as 4500 into 4.5K and also appropriately turns 4000 into 4K (no zero after the decimal).\n",
    "    \"\"\"\n",
    "    if tick_val >= 1000000000:\n",
    "        val = round(tick_val/1000000000, 1)\n",
    "        new_tick_format = '{:}B'.format(val)\n",
    "    elif tick_val >= 1000000:\n",
    "        val = round(tick_val/1000000, 1)\n",
    "        new_tick_format = '{:}M'.format(val)\n",
    "    elif tick_val >= 1000:\n",
    "        val = round(tick_val/1000, 1)\n",
    "        new_tick_format = '{:}K'.format(val)\n",
    "    elif tick_val < 1000:\n",
    "        new_tick_format = round(tick_val, 1)\n",
    "    else:\n",
    "        new_tick_format = tick_val\n",
    "\n",
    "    # make new_tick_format into a string value\n",
    "    new_tick_format = str(new_tick_format)\n",
    "    \n",
    "    # code below will keep 4.5M as is but change values such as 4.0M to 4M since that zero after the decimal isn't needed\n",
    "    index_of_decimal = new_tick_format.find(\".\")\n",
    "    \n",
    "    if index_of_decimal != -1:\n",
    "        value_after_decimal = new_tick_format[index_of_decimal+1]\n",
    "        if value_after_decimal == \"0\":\n",
    "            # remove the 0 after the decimal point since it's not needed\n",
    "            new_tick_format = new_tick_format[0:index_of_decimal] + new_tick_format[index_of_decimal+2:]\n",
    "            \n",
    "    return new_tick_format"
   ]
  },
  {
   "cell_type": "code",
   "execution_count": 79,
   "id": "96e2fcec-bf20-4db4-8fbe-6a7fc08b08e0",
   "metadata": {},
   "outputs": [
    {
     "data": {
      "image/png": "[encoded data removed]",
      "text/plain": [
       "<Figure size 720x360 with 1 Axes>"
      ]
     },
     "metadata": {
      "needs_background": "light"
     },
     "output_type": "display_data"
    }
   ],
   "source": [
    "plt.figure(figsize=(10,5))\n",
    "potential_influencer = influencers[(influencers['followers_count']>500000) & (influencers['followers_count']<1000000)] # more than 5M\n",
    "plt.hist(potential_influencer['followers_count'], bins=100, align='right', color='purple', edgecolor='black')\n",
    "plt.xticks(rotation='30')\n",
    "plt.xlabel('follower count')\n",
    "plt.ylabel('Volume')\n",
    "plt.title('Follower count Distribution (Large Influencers >500K)')\n",
    "ax = plt.gca()\n",
    "ax.xaxis.set_major_formatter(tick.FuncFormatter(reformat_large_tick_values));\n",
    "# plt.ticklabel_format(style='plain')\n"
   ]
  },
  {
   "cell_type": "code",
   "execution_count": 80,
   "id": "a6536454-bc04-462b-a930-e312e250807c",
   "metadata": {},
   "outputs": [
    {
     "data": {
      "image/png": "[encoded data removed]",
      "text/plain": [
       "<Figure size 720x360 with 1 Axes>"
      ]
     },
     "metadata": {
      "needs_background": "light"
     },
     "output_type": "display_data"
    }
   ],
   "source": [
    "plt.figure(figsize=(10,5))\n",
    "potential_influencer = influencers[(influencers['followers_count']>20000) & (influencers['followers_count']<500000)] # more than 5M\n",
    "plt.hist(potential_influencer['followers_count'], bins=100, align='right', color='purple', edgecolor='black')\n",
    "plt.xticks(rotation='30')\n",
    "plt.xlabel('follower count')\n",
    "plt.ylabel('Volume')\n",
    "plt.title('Follower count Distribution (Small Influencers >20K & <500k)')\n",
    "ax = plt.gca()\n",
    "ax.xaxis.set_major_formatter(tick.FuncFormatter(reformat_large_tick_values));\n",
    "# plt.ticklabel_format(style='plain')\n"
   ]
  },
  {
   "cell_type": "code",
   "execution_count": 73,
   "id": "59822b42-d884-4cab-aac7-c4bceefdf5cd",
   "metadata": {},
   "outputs": [
    {
     "data": {
      "image/png": "[encoded data removed]",
      "text/plain": [
       "<Figure size 720x360 with 1 Axes>"
      ]
     },
     "metadata": {
      "needs_background": "light"
     },
     "output_type": "display_data"
    }
   ],
   "source": [
    "plt.figure(figsize=(10,5))\n",
    "potential_celebs = influencers[(influencers['followers_count']>1000000) & (influencers['followers_count']<20000000)] # more than 5M\n",
    "plt.hist(potential_celebs['followers_count'], bins=50, align='right', color='purple', edgecolor='black')\n",
    "plt.xticks(rotation='30')\n",
    "plt.xlabel('follower count')\n",
    "plt.ylabel('Volume')\n",
    "plt.title('Follower count Distribution')\n",
    "ax = plt.gca()\n",
    "ax.xaxis.set_major_formatter(tick.FuncFormatter(reformat_large_tick_values));\n",
    "# plt.ticklabel_format(style='plain')\n"
   ]
  },
  {
   "cell_type": "code",
   "execution_count": 33,
   "id": "922ac29c-2e27-47a9-bbf6-56ee7fb31d10",
   "metadata": {},
   "outputs": [
    {
     "data": {
      "text/plain": [
       "count    1000.000000\n",
       "mean       32.632232\n",
       "std        15.315394\n",
       "min         5.506353\n",
       "25%        21.194317\n",
       "50%        30.705163\n",
       "75%        40.443542\n",
       "max       107.554115\n",
       "dtype: float64"
      ]
     },
     "execution_count": 33,
     "metadata": {},
     "output_type": "execute_result"
    }
   ],
   "source": [
    "# Generate data on commute times.\n",
    "import numpy as np\n",
    "size, scale = 1000, 10\n",
    "commutes = pd.Series(np.random.gamma(scale, size=size) ** 1.5)\n",
    "pd.Series(influencers['followers_count'])\n",
    "#.plot.hist(grid=True, bins=20, rwidth=0.9)\n",
    "commutes.describe()\n",
    "# commutes.plot.hist(grid=True, bins=20, rwidth=0.9)"
   ]
  }
 ],
 "metadata": {
  "kernelspec": {
   "display_name": "Python 3",
   "language": "python",
   "name": "python3"
  },
  "language_info": {
   "codemirror_mode": {
    "name": "ipython",
    "version": 3
   },
   "file_extension": ".py",
   "mimetype": "text/x-python",
   "name": "python",
   "nbconvert_exporter": "python",
   "pygments_lexer": "ipython3",
   "version": "3.8.8"
  }
 },
 "nbformat": 4,
 "nbformat_minor": 5
}
