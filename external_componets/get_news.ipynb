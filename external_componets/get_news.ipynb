{
 "cells": [
  {
   "cell_type": "code",
   "execution_count": null,
   "metadata": {},
   "outputs": [],
   "source": [
    "# ! pip install xgboost\n",
    "# !pip install imblearn\n",
    "# !pip install imbalanced-learn\n",
    "# !pip install -U scikit-learn"
   ]
  },
  {
   "cell_type": "code",
   "execution_count": 32,
   "metadata": {},
   "outputs": [],
   "source": [
    "import pandas as pd\n",
    "import math\n",
    "from sklearn.model_selection import train_test_split\n",
    "from sklearn.naive_bayes import MultinomialNB\n",
    "from sklearn.feature_extraction.text import TfidfVectorizer,CountVectorizer\n",
    "from sklearn.metrics import confusion_matrix\n",
    "\n",
    "#for model-building\n",
    "from xgboost import XGBClassifier\n",
    "from sklearn.model_selection import train_test_split\n",
    "from sklearn.linear_model import LogisticRegression\n",
    "from sklearn.naive_bayes import MultinomialNB\n",
    "from sklearn.metrics import classification_report, f1_score, accuracy_score, confusion_matrix\n",
    "from sklearn.metrics import roc_curve, auc, roc_auc_score\n",
    "from sklearn.feature_extraction.text import TfidfTransformer\n",
    "\n",
    "from imblearn.over_sampling  import RandomOverSampler\n",
    "from imblearn.under_sampling import RandomUnderSampler \n",
    "from imblearn.over_sampling import SMOTE\n",
    "\n",
    "\n",
    "from imblearn.pipeline import Pipeline \n",
    "from sklearn.model_selection import GridSearchCV"
   ]
  },
  {
   "cell_type": "code",
   "execution_count": 7,
   "metadata": {},
   "outputs": [
    {
     "data": {
      "text/plain": [
       "(9636, 3)"
      ]
     },
     "execution_count": 7,
     "metadata": {},
     "output_type": "execute_result"
    }
   ],
   "source": [
    "news_ids = pd.read_csv(r'../data/news_outlets-accounts.csv')\n",
    "news_ids.shape"
   ]
  },
  {
   "cell_type": "code",
   "execution_count": 8,
   "metadata": {},
   "outputs": [
    {
     "data": {
      "text/html": [
       "<div>\n",
       "<style scoped>\n",
       "    .dataframe tbody tr th:only-of-type {\n",
       "        vertical-align: middle;\n",
       "    }\n",
       "\n",
       "    .dataframe tbody tr th {\n",
       "        vertical-align: top;\n",
       "    }\n",
       "\n",
       "    .dataframe thead th {\n",
       "        text-align: right;\n",
       "    }\n",
       "</style>\n",
       "<table border=\"1\" class=\"dataframe\">\n",
       "  <thead>\n",
       "    <tr style=\"text-align: right;\">\n",
       "      <th></th>\n",
       "      <th>Token</th>\n",
       "      <th>Uid</th>\n",
       "      <th>Link</th>\n",
       "    </tr>\n",
       "  </thead>\n",
       "  <tbody>\n",
       "    <tr>\n",
       "      <th>0</th>\n",
       "      <td>LouisvilleMag</td>\n",
       "      <td>11263532</td>\n",
       "      <td>https://twitter.com/LouisvilleMag</td>\n",
       "    </tr>\n",
       "    <tr>\n",
       "      <th>1</th>\n",
       "      <td>WindyCityTimes</td>\n",
       "      <td>30284449</td>\n",
       "      <td>https://twitter.com/WindyCityTimes</td>\n",
       "    </tr>\n",
       "    <tr>\n",
       "      <th>2</th>\n",
       "      <td>BlkMtnNews</td>\n",
       "      <td>3053471913</td>\n",
       "      <td>https://twitter.com/BlkMtnNews</td>\n",
       "    </tr>\n",
       "    <tr>\n",
       "      <th>3</th>\n",
       "      <td>NewYorker</td>\n",
       "      <td>14677919</td>\n",
       "      <td>https://twitter.com/NewYorker</td>\n",
       "    </tr>\n",
       "    <tr>\n",
       "      <th>4</th>\n",
       "      <td>KyKernel</td>\n",
       "      <td>41463945</td>\n",
       "      <td>https://twitter.com/KyKernel</td>\n",
       "    </tr>\n",
       "  </tbody>\n",
       "</table>\n",
       "</div>"
      ],
      "text/plain": [
       "            Token         Uid                                Link\n",
       "0   LouisvilleMag    11263532   https://twitter.com/LouisvilleMag\n",
       "1  WindyCityTimes    30284449  https://twitter.com/WindyCityTimes\n",
       "2      BlkMtnNews  3053471913      https://twitter.com/BlkMtnNews\n",
       "3       NewYorker    14677919       https://twitter.com/NewYorker\n",
       "4        KyKernel    41463945        https://twitter.com/KyKernel"
      ]
     },
     "execution_count": 8,
     "metadata": {},
     "output_type": "execute_result"
    }
   ],
   "source": [
    "news_ids.head()"
   ]
  },
  {
   "cell_type": "code",
   "execution_count": 10,
   "metadata": {},
   "outputs": [
    {
     "data": {
      "text/plain": [
       "(7125059, 21)"
      ]
     },
     "execution_count": 10,
     "metadata": {},
     "output_type": "execute_result"
    }
   ],
   "source": [
    "input_path = r'../components/artifacts/preprocess_data.csv'\n",
    "preprocess_data = (\n",
    "            pd.read_csv(input_path, sep = \"\\t\")\n",
    "            .drop_duplicates()\n",
    "        )\n",
    "preprocess_data[\"Full Text\"] =preprocess_data[\"Full Text\"].fillna(\"\")\n",
    "preprocess_data.shape"
   ]
  },
  {
   "cell_type": "code",
   "execution_count": 11,
   "metadata": {},
   "outputs": [
    {
     "data": {
      "text/html": [
       "<div>\n",
       "<style scoped>\n",
       "    .dataframe tbody tr th:only-of-type {\n",
       "        vertical-align: middle;\n",
       "    }\n",
       "\n",
       "    .dataframe tbody tr th {\n",
       "        vertical-align: top;\n",
       "    }\n",
       "\n",
       "    .dataframe thead th {\n",
       "        text-align: right;\n",
       "    }\n",
       "</style>\n",
       "<table border=\"1\" class=\"dataframe\">\n",
       "  <thead>\n",
       "    <tr style=\"text-align: right;\">\n",
       "      <th></th>\n",
       "      <th>Unnamed: 0</th>\n",
       "      <th>Date</th>\n",
       "      <th>Page Type</th>\n",
       "      <th>Account Type</th>\n",
       "      <th>Author</th>\n",
       "      <th>Full Name</th>\n",
       "      <th>Full Text</th>\n",
       "      <th>Gender</th>\n",
       "      <th>Hashtags</th>\n",
       "      <th>Impact</th>\n",
       "      <th>...</th>\n",
       "      <th>Thread Entry Type</th>\n",
       "      <th>Thread Author</th>\n",
       "      <th>Twitter Followers</th>\n",
       "      <th>Twitter Following</th>\n",
       "      <th>Twitter Tweets</th>\n",
       "      <th>Twitter Reply Count</th>\n",
       "      <th>Twitter Verified</th>\n",
       "      <th>Twitter Retweets</th>\n",
       "      <th>Reach (new)</th>\n",
       "      <th>Region</th>\n",
       "    </tr>\n",
       "  </thead>\n",
       "  <tbody>\n",
       "    <tr>\n",
       "      <th>0</th>\n",
       "      <td>0</td>\n",
       "      <td>2017-12-06 23:59:59</td>\n",
       "      <td>twitter</td>\n",
       "      <td>NaN</td>\n",
       "      <td>William82861606</td>\n",
       "      <td>William82861606 (William)</td>\n",
       "      <td>funder conyers resigned franken resigning tomo...</td>\n",
       "      <td>male</td>\n",
       "      <td>#trumpsexprobe, #metoo</td>\n",
       "      <td>0.0</td>\n",
       "      <td>...</td>\n",
       "      <td>share</td>\n",
       "      <td>funder</td>\n",
       "      <td>282.0</td>\n",
       "      <td>415.0</td>\n",
       "      <td>17340.0</td>\n",
       "      <td>0.0</td>\n",
       "      <td>False</td>\n",
       "      <td>0.0</td>\n",
       "      <td>0.0</td>\n",
       "      <td>Arizona</td>\n",
       "    </tr>\n",
       "    <tr>\n",
       "      <th>1</th>\n",
       "      <td>1</td>\n",
       "      <td>2017-12-06 23:59:58</td>\n",
       "      <td>twitter</td>\n",
       "      <td>NaN</td>\n",
       "      <td>Artis_Elemental</td>\n",
       "      <td>Artis_Elemental (ART...Is)</td>\n",
       "      <td>alyssa_milano list sexual misconduct allegatio...</td>\n",
       "      <td>male</td>\n",
       "      <td>#metoo</td>\n",
       "      <td>24.5</td>\n",
       "      <td>...</td>\n",
       "      <td>share</td>\n",
       "      <td>Alyssa_Milano</td>\n",
       "      <td>5578.0</td>\n",
       "      <td>5769.0</td>\n",
       "      <td>363570.0</td>\n",
       "      <td>0.0</td>\n",
       "      <td>False</td>\n",
       "      <td>0.0</td>\n",
       "      <td>3311.0</td>\n",
       "      <td>NaN</td>\n",
       "    </tr>\n",
       "    <tr>\n",
       "      <th>2</th>\n",
       "      <td>2</td>\n",
       "      <td>2017-12-06 23:59:57</td>\n",
       "      <td>twitter</td>\n",
       "      <td>individual</td>\n",
       "      <td>lanah03</td>\n",
       "      <td>lanah03 (Laura Hopkins)</td>\n",
       "      <td>deepinthehills sobbing silent longer</td>\n",
       "      <td>female</td>\n",
       "      <td>#metoo</td>\n",
       "      <td>5.4</td>\n",
       "      <td>...</td>\n",
       "      <td>share</td>\n",
       "      <td>DeepInTheHills</td>\n",
       "      <td>2713.0</td>\n",
       "      <td>4978.0</td>\n",
       "      <td>46914.0</td>\n",
       "      <td>0.0</td>\n",
       "      <td>False</td>\n",
       "      <td>0.0</td>\n",
       "      <td>1734.0</td>\n",
       "      <td>New York</td>\n",
       "    </tr>\n",
       "    <tr>\n",
       "      <th>3</th>\n",
       "      <td>3</td>\n",
       "      <td>2017-12-06 23:59:55</td>\n",
       "      <td>twitter</td>\n",
       "      <td>individual</td>\n",
       "      <td>lidskawasaki</td>\n",
       "      <td>lidskawasaki (dearlordbabyjesus)</td>\n",
       "      <td>alyssa_milano time asking franken resign senat...</td>\n",
       "      <td>unknown</td>\n",
       "      <td>#timepersonoftheyear, #metoo</td>\n",
       "      <td>0.0</td>\n",
       "      <td>...</td>\n",
       "      <td>share</td>\n",
       "      <td>Alyssa_Milano</td>\n",
       "      <td>330.0</td>\n",
       "      <td>273.0</td>\n",
       "      <td>10901.0</td>\n",
       "      <td>0.0</td>\n",
       "      <td>False</td>\n",
       "      <td>0.0</td>\n",
       "      <td>0.0</td>\n",
       "      <td>NaN</td>\n",
       "    </tr>\n",
       "    <tr>\n",
       "      <th>4</th>\n",
       "      <td>4</td>\n",
       "      <td>2017-12-06 23:59:54</td>\n",
       "      <td>twitter</td>\n",
       "      <td>NaN</td>\n",
       "      <td>IAmMeliLopez</td>\n",
       "      <td>IAmMeliLopez (Melissa Lopez)</td>\n",
       "      <td>nycchr public hearing begun stories deserve he...</td>\n",
       "      <td>female</td>\n",
       "      <td>#sexualharassment, #metoo</td>\n",
       "      <td>0.0</td>\n",
       "      <td>...</td>\n",
       "      <td>share</td>\n",
       "      <td>NYCCHR</td>\n",
       "      <td>13.0</td>\n",
       "      <td>96.0</td>\n",
       "      <td>11594.0</td>\n",
       "      <td>0.0</td>\n",
       "      <td>False</td>\n",
       "      <td>0.0</td>\n",
       "      <td>0.0</td>\n",
       "      <td>New York</td>\n",
       "    </tr>\n",
       "  </tbody>\n",
       "</table>\n",
       "<p>5 rows × 21 columns</p>\n",
       "</div>"
      ],
      "text/plain": [
       "   Unnamed: 0                 Date Page Type Account Type           Author  \\\n",
       "0           0  2017-12-06 23:59:59   twitter          NaN  William82861606   \n",
       "1           1  2017-12-06 23:59:58   twitter          NaN  Artis_Elemental   \n",
       "2           2  2017-12-06 23:59:57   twitter   individual          lanah03   \n",
       "3           3  2017-12-06 23:59:55   twitter   individual     lidskawasaki   \n",
       "4           4  2017-12-06 23:59:54   twitter          NaN     IAmMeliLopez   \n",
       "\n",
       "                          Full Name  \\\n",
       "0         William82861606 (William)   \n",
       "1        Artis_Elemental (ART...Is)   \n",
       "2           lanah03 (Laura Hopkins)   \n",
       "3  lidskawasaki (dearlordbabyjesus)   \n",
       "4      IAmMeliLopez (Melissa Lopez)   \n",
       "\n",
       "                                           Full Text   Gender  \\\n",
       "0  funder conyers resigned franken resigning tomo...     male   \n",
       "1  alyssa_milano list sexual misconduct allegatio...     male   \n",
       "2               deepinthehills sobbing silent longer   female   \n",
       "3  alyssa_milano time asking franken resign senat...  unknown   \n",
       "4  nycchr public hearing begun stories deserve he...   female   \n",
       "\n",
       "                       Hashtags  Impact  ...  Thread Entry Type  \\\n",
       "0        #trumpsexprobe, #metoo     0.0  ...              share   \n",
       "1                        #metoo    24.5  ...              share   \n",
       "2                        #metoo     5.4  ...              share   \n",
       "3  #timepersonoftheyear, #metoo     0.0  ...              share   \n",
       "4     #sexualharassment, #metoo     0.0  ...              share   \n",
       "\n",
       "    Thread Author Twitter Followers  Twitter Following  Twitter Tweets  \\\n",
       "0          funder             282.0              415.0         17340.0   \n",
       "1   Alyssa_Milano            5578.0             5769.0        363570.0   \n",
       "2  DeepInTheHills            2713.0             4978.0         46914.0   \n",
       "3   Alyssa_Milano             330.0              273.0         10901.0   \n",
       "4          NYCCHR              13.0               96.0         11594.0   \n",
       "\n",
       "   Twitter Reply Count  Twitter Verified  Twitter Retweets  Reach (new)  \\\n",
       "0                  0.0             False               0.0          0.0   \n",
       "1                  0.0             False               0.0       3311.0   \n",
       "2                  0.0             False               0.0       1734.0   \n",
       "3                  0.0             False               0.0          0.0   \n",
       "4                  0.0             False               0.0          0.0   \n",
       "\n",
       "     Region  \n",
       "0   Arizona  \n",
       "1       NaN  \n",
       "2  New York  \n",
       "3       NaN  \n",
       "4  New York  \n",
       "\n",
       "[5 rows x 21 columns]"
      ]
     },
     "execution_count": 11,
     "metadata": {},
     "output_type": "execute_result"
    }
   ],
   "source": [
    "preprocess_data.head()"
   ]
  },
  {
   "cell_type": "code",
   "execution_count": 12,
   "metadata": {},
   "outputs": [
    {
     "data": {
      "text/plain": [
       "Index(['Unnamed: 0', 'Date', 'Page Type', 'Account Type', 'Author',\n",
       "       'Full Name', 'Full Text', 'Gender', 'Hashtags', 'Impact', 'Impressions',\n",
       "       'Thread Entry Type', 'Thread Author', 'Twitter Followers',\n",
       "       'Twitter Following', 'Twitter Tweets', 'Twitter Reply Count',\n",
       "       'Twitter Verified', 'Twitter Retweets', 'Reach (new)', 'Region'],\n",
       "      dtype='object')"
      ]
     },
     "execution_count": 12,
     "metadata": {},
     "output_type": "execute_result"
    }
   ],
   "source": [
    "preprocess_data.columns"
   ]
  },
  {
   "cell_type": "code",
   "execution_count": 22,
   "metadata": {},
   "outputs": [],
   "source": [
    "news_id_list = news_ids['Token'].tolist()\n",
    "# preprocess_data['news_authors'] = preprocess_data['Author'].apply(lambda x: x in news_id_list)\n",
    "\n",
    "# preprocess_data[['Author','news_authors']].head()"
   ]
  },
  {
   "cell_type": "code",
   "execution_count": 14,
   "metadata": {},
   "outputs": [],
   "source": [
    "# preprocess_data[preprocess_data['news_authors']][['Author','news_authors','Full Text']].head()"
   ]
  },
  {
   "cell_type": "code",
   "execution_count": 15,
   "metadata": {},
   "outputs": [],
   "source": [
    "# preprocess_data[preprocess_data['news_authors']][['Author','news_authors']].shape"
   ]
  },
  {
   "cell_type": "code",
   "execution_count": 16,
   "metadata": {},
   "outputs": [],
   "source": [
    "# def news_identification_heuristic(author,tweet):\n",
    "#     # print(author,tweet)\n",
    "#     auth_heuristics = 'news' in str(author).lower() or 'times' in str(author).lower()\n",
    "#     tweet_heuristics = 'breaking news' in str(tweet).lower()\n",
    "#     return auth_heuristics or tweet_heuristics"
   ]
  },
  {
   "cell_type": "code",
   "execution_count": 17,
   "metadata": {},
   "outputs": [],
   "source": [
    "# preprocess_data['news_authors_simp_heu'] = preprocess_data[['Author','Full Text']].\\\n",
    "#     apply(lambda x: news_identification_heuristic(x[0],x[1]),axis=1)\n",
    "# # preprocess_data[['Author','news_authors_simp_heu']].head()\n",
    "# preprocess_data[preprocess_data['news_authors_simp_heu']][['Author','news_authors_simp_heu','Full Text']].head()"
   ]
  },
  {
   "cell_type": "code",
   "execution_count": 19,
   "metadata": {},
   "outputs": [],
   "source": [
    "# preprocess_data[preprocess_data['news_authors_simp_heu']][['Author','news_authors_simp_heu']].shape\n"
   ]
  },
  {
   "cell_type": "code",
   "execution_count": 18,
   "metadata": {},
   "outputs": [],
   "source": [
    "# preprocess_data[preprocess_data['news_authors_simp_heu']][['Author','news_authors_simp_heu','news_authors','Full Text']].head(5)"
   ]
  },
  {
   "cell_type": "code",
   "execution_count": 20,
   "metadata": {},
   "outputs": [],
   "source": [
    "# news_id_list = [x.lower() for x in news_id_list]\n",
    "def news_iden_imp_heu(author):\n",
    "    # print(author,tweet)\n",
    "    auth_heuristics = 'news' in str(author).lower() or author in news_id_list\n",
    "    return 1 if auth_heuristics else 0"
   ]
  },
  {
   "cell_type": "code",
   "execution_count": 23,
   "metadata": {},
   "outputs": [
    {
     "data": {
      "text/html": [
       "<div>\n",
       "<style scoped>\n",
       "    .dataframe tbody tr th:only-of-type {\n",
       "        vertical-align: middle;\n",
       "    }\n",
       "\n",
       "    .dataframe tbody tr th {\n",
       "        vertical-align: top;\n",
       "    }\n",
       "\n",
       "    .dataframe thead th {\n",
       "        text-align: right;\n",
       "    }\n",
       "</style>\n",
       "<table border=\"1\" class=\"dataframe\">\n",
       "  <thead>\n",
       "    <tr style=\"text-align: right;\">\n",
       "      <th></th>\n",
       "      <th>Author</th>\n",
       "      <th>Full Text</th>\n",
       "      <th>news_label</th>\n",
       "    </tr>\n",
       "  </thead>\n",
       "  <tbody>\n",
       "    <tr>\n",
       "      <th>804</th>\n",
       "      <td>1003ThePeakABQ</td>\n",
       "      <td>baby cold outside cut cleveland radio station ...</td>\n",
       "      <td>1</td>\n",
       "    </tr>\n",
       "    <tr>\n",
       "      <th>809</th>\n",
       "      <td>1007WRDU</td>\n",
       "      <td>gene simmons worries collateral damage movemen...</td>\n",
       "      <td>1</td>\n",
       "    </tr>\n",
       "    <tr>\n",
       "      <th>861</th>\n",
       "      <td>100dailynews1</td>\n",
       "      <td>amazon defends dropping woody allen film deal ...</td>\n",
       "      <td>1</td>\n",
       "    </tr>\n",
       "    <tr>\n",
       "      <th>892</th>\n",
       "      <td>1011_News</td>\n",
       "      <td>bill cosby convicted drugging molesting woman ...</td>\n",
       "      <td>1</td>\n",
       "    </tr>\n",
       "    <tr>\n",
       "      <th>895</th>\n",
       "      <td>1011wjrr</td>\n",
       "      <td>gene simmons worries collateral damage movement</td>\n",
       "      <td>1</td>\n",
       "    </tr>\n",
       "    <tr>\n",
       "      <th>...</th>\n",
       "      <td>...</td>\n",
       "      <td>...</td>\n",
       "      <td>...</td>\n",
       "    </tr>\n",
       "    <tr>\n",
       "      <th>1364966</th>\n",
       "      <td>ysbnews</td>\n",
       "      <td>hotlinejosh tocradio apparently affected soft ...</td>\n",
       "      <td>1</td>\n",
       "    </tr>\n",
       "    <tr>\n",
       "      <th>1365935</th>\n",
       "      <td>z1077</td>\n",
       "      <td>gabrielle union opens twitter campaign gma vid...</td>\n",
       "      <td>1</td>\n",
       "    </tr>\n",
       "    <tr>\n",
       "      <th>1367890</th>\n",
       "      <td>zestynews_paleo</td>\n",
       "      <td>new original sin finally absolves eve feminist...</td>\n",
       "      <td>1</td>\n",
       "    </tr>\n",
       "    <tr>\n",
       "      <th>1368593</th>\n",
       "      <td>znewsafrica</td>\n",
       "      <td>chimamanda says ta nehisi coates ibo hillary r...</td>\n",
       "      <td>1</td>\n",
       "    </tr>\n",
       "    <tr>\n",
       "      <th>1368840</th>\n",
       "      <td>zoesullnews</td>\n",
       "      <td>reuters actress annabella sciorra testified co...</td>\n",
       "      <td>1</td>\n",
       "    </tr>\n",
       "  </tbody>\n",
       "</table>\n",
       "<p>6573 rows × 3 columns</p>\n",
       "</div>"
      ],
      "text/plain": [
       "                  Author                                          Full Text  \\\n",
       "804       1003ThePeakABQ  baby cold outside cut cleveland radio station ...   \n",
       "809             1007WRDU  gene simmons worries collateral damage movemen...   \n",
       "861        100dailynews1  amazon defends dropping woody allen film deal ...   \n",
       "892            1011_News  bill cosby convicted drugging molesting woman ...   \n",
       "895             1011wjrr    gene simmons worries collateral damage movement   \n",
       "...                  ...                                                ...   \n",
       "1364966          ysbnews  hotlinejosh tocradio apparently affected soft ...   \n",
       "1365935            z1077  gabrielle union opens twitter campaign gma vid...   \n",
       "1367890  zestynews_paleo  new original sin finally absolves eve feminist...   \n",
       "1368593      znewsafrica  chimamanda says ta nehisi coates ibo hillary r...   \n",
       "1368840      zoesullnews  reuters actress annabella sciorra testified co...   \n",
       "\n",
       "         news_label  \n",
       "804               1  \n",
       "809               1  \n",
       "861               1  \n",
       "892               1  \n",
       "895               1  \n",
       "...             ...  \n",
       "1364966           1  \n",
       "1365935           1  \n",
       "1367890           1  \n",
       "1368593           1  \n",
       "1368840           1  \n",
       "\n",
       "[6573 rows x 3 columns]"
      ]
     },
     "execution_count": 23,
     "metadata": {},
     "output_type": "execute_result"
    }
   ],
   "source": [
    "preprocess_data[\"Full Text\"] =preprocess_data[\"Full Text\"].fillna(\"\")\n",
    "author_corpus = preprocess_data.groupby(\"Author\")[\"Full Text\"].apply(\" \".join).reset_index()\n",
    "author_corpus ['news_label'] = author_corpus['Author'].apply(news_iden_imp_heu)\n",
    "author_corpus[author_corpus['news_label']==1]"
   ]
  },
  {
   "cell_type": "code",
   "execution_count": 24,
   "metadata": {},
   "outputs": [
    {
     "data": {
      "text/html": [
       "<div>\n",
       "<style scoped>\n",
       "    .dataframe tbody tr th:only-of-type {\n",
       "        vertical-align: middle;\n",
       "    }\n",
       "\n",
       "    .dataframe tbody tr th {\n",
       "        vertical-align: top;\n",
       "    }\n",
       "\n",
       "    .dataframe thead th {\n",
       "        text-align: right;\n",
       "    }\n",
       "</style>\n",
       "<table border=\"1\" class=\"dataframe\">\n",
       "  <thead>\n",
       "    <tr style=\"text-align: right;\">\n",
       "      <th></th>\n",
       "      <th>Author</th>\n",
       "      <th>Full Text</th>\n",
       "      <th>news_label</th>\n",
       "    </tr>\n",
       "  </thead>\n",
       "  <tbody>\n",
       "    <tr>\n",
       "      <th>0</th>\n",
       "      <td>00000365</td>\n",
       "      <td>malmet harvey weinstein found guilty landmark ...</td>\n",
       "      <td>0</td>\n",
       "    </tr>\n",
       "    <tr>\n",
       "      <th>1</th>\n",
       "      <td>0000Baeza</td>\n",
       "      <td>ravebeautybar want hands training canadaelecti...</td>\n",
       "      <td>0</td>\n",
       "    </tr>\n",
       "    <tr>\n",
       "      <th>2</th>\n",
       "      <td>0000timmy</td>\n",
       "      <td>funder women accused trump sexual assault tell...</td>\n",
       "      <td>0</td>\n",
       "    </tr>\n",
       "    <tr>\n",
       "      <th>3</th>\n",
       "      <td>0001nvywrvet</td>\n",
       "      <td>doublestandards liberals walkaway resist abuser</td>\n",
       "      <td>0</td>\n",
       "    </tr>\n",
       "    <tr>\n",
       "      <th>4</th>\n",
       "      <td>0002RG</td>\n",
       "      <td>mari sarutobi abc time nbcnews foxnews bbc bbc...</td>\n",
       "      <td>0</td>\n",
       "    </tr>\n",
       "    <tr>\n",
       "      <th>...</th>\n",
       "      <td>...</td>\n",
       "      <td>...</td>\n",
       "      <td>...</td>\n",
       "    </tr>\n",
       "    <tr>\n",
       "      <th>1369765</th>\n",
       "      <td>zzzzaaaacccchhh</td>\n",
       "      <td>janetmaslin need ideal poster person believe w...</td>\n",
       "      <td>0</td>\n",
       "    </tr>\n",
       "    <tr>\n",
       "      <th>1369766</th>\n",
       "      <td>zzzzfunk</td>\n",
       "      <td>alyssa_milano dont let performance fool senato...</td>\n",
       "      <td>0</td>\n",
       "    </tr>\n",
       "    <tr>\n",
       "      <th>1369767</th>\n",
       "      <td>zzzzxxcbv</td>\n",
       "      <td>funder rep speier th member congress trump res...</td>\n",
       "      <td>0</td>\n",
       "    </tr>\n",
       "    <tr>\n",
       "      <th>1369768</th>\n",
       "      <td>zzzzzac12</td>\n",
       "      <td>queenbpip justice johnny depp thread johnnydepp</td>\n",
       "      <td>0</td>\n",
       "    </tr>\n",
       "    <tr>\n",
       "      <th>1369769</th>\n",
       "      <td>zzzzzzombi</td>\n",
       "      <td>marziegk lucychvrch wmag leepace pure exploita...</td>\n",
       "      <td>0</td>\n",
       "    </tr>\n",
       "  </tbody>\n",
       "</table>\n",
       "<p>1369770 rows × 3 columns</p>\n",
       "</div>"
      ],
      "text/plain": [
       "                  Author                                          Full Text  \\\n",
       "0               00000365  malmet harvey weinstein found guilty landmark ...   \n",
       "1              0000Baeza  ravebeautybar want hands training canadaelecti...   \n",
       "2              0000timmy  funder women accused trump sexual assault tell...   \n",
       "3           0001nvywrvet    doublestandards liberals walkaway resist abuser   \n",
       "4                 0002RG  mari sarutobi abc time nbcnews foxnews bbc bbc...   \n",
       "...                  ...                                                ...   \n",
       "1369765  zzzzaaaacccchhh  janetmaslin need ideal poster person believe w...   \n",
       "1369766         zzzzfunk  alyssa_milano dont let performance fool senato...   \n",
       "1369767        zzzzxxcbv  funder rep speier th member congress trump res...   \n",
       "1369768        zzzzzac12    queenbpip justice johnny depp thread johnnydepp   \n",
       "1369769       zzzzzzombi  marziegk lucychvrch wmag leepace pure exploita...   \n",
       "\n",
       "         news_label  \n",
       "0                 0  \n",
       "1                 0  \n",
       "2                 0  \n",
       "3                 0  \n",
       "4                 0  \n",
       "...             ...  \n",
       "1369765           0  \n",
       "1369766           0  \n",
       "1369767           0  \n",
       "1369768           0  \n",
       "1369769           0  \n",
       "\n",
       "[1369770 rows x 3 columns]"
      ]
     },
     "execution_count": 24,
     "metadata": {},
     "output_type": "execute_result"
    }
   ],
   "source": [
    "author_corpus"
   ]
  },
  {
   "cell_type": "code",
   "execution_count": 25,
   "metadata": {},
   "outputs": [],
   "source": [
    "vec = TfidfVectorizer(max_features = 20000)"
   ]
  },
  {
   "cell_type": "code",
   "execution_count": 39,
   "metadata": {},
   "outputs": [],
   "source": [
    "X_train, X_test, y_train, y_test = train_test_split(\n",
    "        author_corpus['Full Text'], \n",
    "        author_corpus['news_label'],\n",
    "        random_state = 123,\n",
    "        train_size = 0.75,\n",
    "        \n",
    "    )"
   ]
  },
  {
   "cell_type": "code",
   "execution_count": 40,
   "metadata": {},
   "outputs": [],
   "source": [
    "X_train_vec = vec.fit_transform(X_train)\n",
    "X_test_vec = vec.transform(X_test)"
   ]
  },
  {
   "cell_type": "code",
   "execution_count": 41,
   "metadata": {},
   "outputs": [
    {
     "data": {
      "text/html": [
       "<style>#sk-container-id-1 {color: black;background-color: white;}#sk-container-id-1 pre{padding: 0;}#sk-container-id-1 div.sk-toggleable {background-color: white;}#sk-container-id-1 label.sk-toggleable__label {cursor: pointer;display: block;width: 100%;margin-bottom: 0;padding: 0.3em;box-sizing: border-box;text-align: center;}#sk-container-id-1 label.sk-toggleable__label-arrow:before {content: \"▸\";float: left;margin-right: 0.25em;color: #696969;}#sk-container-id-1 label.sk-toggleable__label-arrow:hover:before {color: black;}#sk-container-id-1 div.sk-estimator:hover label.sk-toggleable__label-arrow:before {color: black;}#sk-container-id-1 div.sk-toggleable__content {max-height: 0;max-width: 0;overflow: hidden;text-align: left;background-color: #f0f8ff;}#sk-container-id-1 div.sk-toggleable__content pre {margin: 0.2em;color: black;border-radius: 0.25em;background-color: #f0f8ff;}#sk-container-id-1 input.sk-toggleable__control:checked~div.sk-toggleable__content {max-height: 200px;max-width: 100%;overflow: auto;}#sk-container-id-1 input.sk-toggleable__control:checked~label.sk-toggleable__label-arrow:before {content: \"▾\";}#sk-container-id-1 div.sk-estimator input.sk-toggleable__control:checked~label.sk-toggleable__label {background-color: #d4ebff;}#sk-container-id-1 div.sk-label input.sk-toggleable__control:checked~label.sk-toggleable__label {background-color: #d4ebff;}#sk-container-id-1 input.sk-hidden--visually {border: 0;clip: rect(1px 1px 1px 1px);clip: rect(1px, 1px, 1px, 1px);height: 1px;margin: -1px;overflow: hidden;padding: 0;position: absolute;width: 1px;}#sk-container-id-1 div.sk-estimator {font-family: monospace;background-color: #f0f8ff;border: 1px dotted black;border-radius: 0.25em;box-sizing: border-box;margin-bottom: 0.5em;}#sk-container-id-1 div.sk-estimator:hover {background-color: #d4ebff;}#sk-container-id-1 div.sk-parallel-item::after {content: \"\";width: 100%;border-bottom: 1px solid gray;flex-grow: 1;}#sk-container-id-1 div.sk-label:hover label.sk-toggleable__label {background-color: #d4ebff;}#sk-container-id-1 div.sk-serial::before {content: \"\";position: absolute;border-left: 1px solid gray;box-sizing: border-box;top: 0;bottom: 0;left: 50%;z-index: 0;}#sk-container-id-1 div.sk-serial {display: flex;flex-direction: column;align-items: center;background-color: white;padding-right: 0.2em;padding-left: 0.2em;position: relative;}#sk-container-id-1 div.sk-item {position: relative;z-index: 1;}#sk-container-id-1 div.sk-parallel {display: flex;align-items: stretch;justify-content: center;background-color: white;position: relative;}#sk-container-id-1 div.sk-item::before, #sk-container-id-1 div.sk-parallel-item::before {content: \"\";position: absolute;border-left: 1px solid gray;box-sizing: border-box;top: 0;bottom: 0;left: 50%;z-index: -1;}#sk-container-id-1 div.sk-parallel-item {display: flex;flex-direction: column;z-index: 1;position: relative;background-color: white;}#sk-container-id-1 div.sk-parallel-item:first-child::after {align-self: flex-end;width: 50%;}#sk-container-id-1 div.sk-parallel-item:last-child::after {align-self: flex-start;width: 50%;}#sk-container-id-1 div.sk-parallel-item:only-child::after {width: 0;}#sk-container-id-1 div.sk-dashed-wrapped {border: 1px dashed gray;margin: 0 0.4em 0.5em 0.4em;box-sizing: border-box;padding-bottom: 0.4em;background-color: white;}#sk-container-id-1 div.sk-label label {font-family: monospace;font-weight: bold;display: inline-block;line-height: 1.2em;}#sk-container-id-1 div.sk-label-container {text-align: center;}#sk-container-id-1 div.sk-container {/* jupyter's `normalize.less` sets `[hidden] { display: none; }` but bootstrap.min.css set `[hidden] { display: none !important; }` so we also need the `!important` here to be able to override the default hidden behavior on the sphinx rendered scikit-learn.org. See: https://github.com/scikit-learn/scikit-learn/issues/21755 */display: inline-block !important;position: relative;}#sk-container-id-1 div.sk-text-repr-fallback {display: none;}</style><div id=\"sk-container-id-1\" class=\"sk-top-container\"><div class=\"sk-text-repr-fallback\"><pre>MultinomialNB()</pre><b>In a Jupyter environment, please rerun this cell to show the HTML representation or trust the notebook. <br />On GitHub, the HTML representation is unable to render, please try loading this page with nbviewer.org.</b></div><div class=\"sk-container\" hidden><div class=\"sk-item\"><div class=\"sk-estimator sk-toggleable\"><input class=\"sk-toggleable__control sk-hidden--visually\" id=\"sk-estimator-id-1\" type=\"checkbox\" checked><label for=\"sk-estimator-id-1\" class=\"sk-toggleable__label sk-toggleable__label-arrow\">MultinomialNB</label><div class=\"sk-toggleable__content\"><pre>MultinomialNB()</pre></div></div></div></div></div>"
      ],
      "text/plain": [
       "MultinomialNB()"
      ]
     },
     "execution_count": 41,
     "metadata": {},
     "output_type": "execute_result"
    }
   ],
   "source": [
    "model = MultinomialNB()\n",
    "model.fit(X_train_vec, y_train)"
   ]
  },
  {
   "cell_type": "code",
   "execution_count": 42,
   "metadata": {},
   "outputs": [
    {
     "data": {
      "text/plain": [
       "array([0, 0, 0, ..., 0, 0, 0])"
      ]
     },
     "execution_count": 42,
     "metadata": {},
     "output_type": "execute_result"
    }
   ],
   "source": [
    "train_preds = model.predict(X_train_vec)\n",
    "test_preds = model.predict(X_test_vec)\n",
    "train_preds"
   ]
  },
  {
   "cell_type": "code",
   "execution_count": 43,
   "metadata": {},
   "outputs": [
    {
     "name": "stdout",
     "output_type": "stream",
     "text": [
      "              precision    recall  f1-score   support\n",
      "\n",
      "           0       1.00      1.00      1.00    340773\n",
      "           1       0.41      0.03      0.06      1670\n",
      "\n",
      "    accuracy                           1.00    342443\n",
      "   macro avg       0.70      0.52      0.53    342443\n",
      "weighted avg       0.99      1.00      0.99    342443\n",
      "\n",
      "[[340691     82]\n",
      " [  1614     56]]\n"
     ]
    }
   ],
   "source": [
    "print(classification_report(y_test, test_preds))\n",
    "print(confusion_matrix(y_test, test_preds))"
   ]
  },
  {
   "cell_type": "code",
   "execution_count": null,
   "metadata": {},
   "outputs": [],
   "source": [
    "lr_tfidf=LogisticRegression(solver = 'liblinear', C=10, penalty = 'l2')\n",
    "lr_tfidf.fit(X_train_vec, y_train)"
   ]
  },
  {
   "cell_type": "code",
   "execution_count": null,
   "metadata": {},
   "outputs": [],
   "source": [
    "train_preds = lr_tfidf.predict(X_train_vec)\n",
    "test_preds = lr_tfidf.predict(X_test_vec)\n",
    "# train_preds"
   ]
  },
  {
   "cell_type": "code",
   "execution_count": null,
   "metadata": {},
   "outputs": [],
   "source": [
    "print(classification_report(y_test, test_preds))\n",
    "print(confusion_matrix(y_test, test_preds))"
   ]
  },
  {
   "cell_type": "code",
   "execution_count": null,
   "metadata": {},
   "outputs": [],
   "source": [
    "cv = CountVectorizer(max_features=10000, encoding=\"utf-8\",  \n",
    "      ngram_range = (1,3),  \n",
    "      token_pattern = \"[A-Za-z_][A-Za-z\\d_]*\")\n",
    "X_train_vec = cv.fit_transform(X_train)\n",
    "X_test_vec = cv.transform(X_test)"
   ]
  },
  {
   "cell_type": "code",
   "execution_count": null,
   "metadata": {},
   "outputs": [],
   "source": [
    "# model = XGBClassifier()\n",
    "# model.fit(X_train, y_train)\n",
    "\n",
    "# # make predictions for test data\n",
    "\n",
    "# y_pred = model.predict(X_test)\n",
    "# predictions = [round(value) for value in y_pred]"
   ]
  },
  {
   "cell_type": "code",
   "execution_count": null,
   "metadata": {},
   "outputs": [],
   "source": [
    "estimator = XGBClassifier(\n",
    "    objective= 'binary:logistic',\n",
    "    nthread=4,\n",
    "    seed=42\n",
    ")\n",
    "parameters = {\n",
    "    'grow_policy' : [0,1],\n",
    "    'max_depth': range (2, 20, 1),\n",
    "    'n_estimators': range(50, 250, 10),\n",
    "    'learning_rate': [0.1, 0.01, 0.05]\n",
    "}\n",
    "\n",
    "grid_search = GridSearchCV(\n",
    "    estimator=estimator,\n",
    "    param_grid=parameters,\n",
    "    scoring = 'balanced_accuracy',\n",
    "    n_jobs = 10,\n",
    "    cv = 10,\n",
    "    verbose=True\n",
    ")\n",
    "\n",
    "# xgb_model = grid_search.fit(X_train_vec, y_train)"
   ]
  },
  {
   "cell_type": "code",
   "execution_count": null,
   "metadata": {},
   "outputs": [],
   "source": [
    "# xgb_model.param_grid"
   ]
  },
  {
   "cell_type": "code",
   "execution_count": 27,
   "metadata": {},
   "outputs": [
    {
     "name": "stderr",
     "output_type": "stream",
     "text": [
      "/home/sridhar.p/.local/lib/python3.8/site-packages/imblearn/utils/_validation.py:586: FutureWarning: Pass sampling_strategy=minority as keyword args. From version 0.9 passing these as positional arguments will result in an error\n",
      "  warnings.warn(\n"
     ]
    }
   ],
   "source": []
  },
  {
   "cell_type": "code",
   "execution_count": 36,
   "metadata": {},
   "outputs": [
    {
     "name": "stderr",
     "output_type": "stream",
     "text": [
      "/home/sridhar.p/.local/lib/python3.8/site-packages/imblearn/utils/_validation.py:586: FutureWarning: Pass sampling_strategy=minority as keyword args. From version 0.9 passing these as positional arguments will result in an error\n",
      "  warnings.warn(\n"
     ]
    },
    {
     "name": "stdout",
     "output_type": "stream",
     "text": [
      "              precision    recall  f1-score   support\n",
      "\n",
      "           0       1.00      0.89      0.94    340773\n",
      "           1       0.03      0.66      0.05      1670\n",
      "\n",
      "    accuracy                           0.88    342443\n",
      "   macro avg       0.51      0.77      0.50    342443\n",
      "weighted avg       0.99      0.88      0.93    342443\n",
      "\n",
      "[[301707  39066]\n",
      " [   561   1109]]\n"
     ]
    }
   ],
   "source": [
    "nb_pipe2  = Pipeline([('vect',    CountVectorizer()),\n",
    "                     ('tfidf',   TfidfTransformer()),\n",
    "                     ('sampler', RandomOverSampler('minority',random_state=42)),\n",
    "                     ('model',   MultinomialNB())])\n",
    "model = nb_pipe2.fit(X_train, y_train)\n",
    "\n",
    "pred  = model.predict(X_test)\n",
    "\n",
    "print(classification_report(y_test,pred))\n",
    "print(confusion_matrix(y_test,pred))"
   ]
  },
  {
   "cell_type": "code",
   "execution_count": 37,
   "metadata": {},
   "outputs": [
    {
     "name": "stderr",
     "output_type": "stream",
     "text": [
      "/home/sridhar.p/.local/lib/python3.8/site-packages/imblearn/utils/_validation.py:586: FutureWarning: Pass sampling_strategy=minority as keyword args. From version 0.9 passing these as positional arguments will result in an error\n",
      "  warnings.warn(\n"
     ]
    },
    {
     "name": "stdout",
     "output_type": "stream",
     "text": [
      "              precision    recall  f1-score   support\n",
      "\n",
      "           0       1.00      0.88      0.94    340773\n",
      "           1       0.03      0.66      0.05      1670\n",
      "\n",
      "    accuracy                           0.88    342443\n",
      "   macro avg       0.51      0.77      0.49    342443\n",
      "weighted avg       0.99      0.88      0.93    342443\n",
      "\n",
      "[[300088  40685]\n",
      " [   562   1108]]\n"
     ]
    }
   ],
   "source": [
    "nb_pipe3  = Pipeline([('vect',    CountVectorizer()),\n",
    "                     ('tfidf',   TfidfTransformer()),\n",
    "                     ('sampler', SMOTE('minority',random_state=42)),\n",
    "                     ('model',   MultinomialNB())])\n",
    "\n",
    "model = nb_pipe3.fit(X_train, y_train)\n",
    "\n",
    "pred  = model.predict(X_test)\n",
    "\n",
    "print(classification_report(y_test,pred))\n",
    "print(confusion_matrix(y_test,pred))"
   ]
  },
  {
   "cell_type": "code",
   "execution_count": 38,
   "metadata": {},
   "outputs": [
    {
     "name": "stderr",
     "output_type": "stream",
     "text": [
      "/home/sridhar.p/.local/lib/python3.8/site-packages/imblearn/utils/_validation.py:586: FutureWarning: Pass sampling_strategy=majority as keyword args. From version 0.9 passing these as positional arguments will result in an error\n",
      "  warnings.warn(\n"
     ]
    },
    {
     "name": "stdout",
     "output_type": "stream",
     "text": [
      "              precision    recall  f1-score   support\n",
      "\n",
      "           0       1.00      0.73      0.84    340773\n",
      "           1       0.01      0.83      0.03      1670\n",
      "\n",
      "    accuracy                           0.73    342443\n",
      "   macro avg       0.51      0.78      0.44    342443\n",
      "weighted avg       0.99      0.73      0.84    342443\n",
      "\n",
      "[[247870  92903]\n",
      " [   286   1384]]\n"
     ]
    }
   ],
   "source": [
    "nb_pipe3  = Pipeline([('vect',    CountVectorizer()),\n",
    "                     ('tfidf',   TfidfTransformer()),\n",
    "                     ('sampler', RandomUnderSampler('majority',random_state=42)),\n",
    "                     ('model',   MultinomialNB())])\n",
    "\n",
    "model = nb_pipe3.fit(X_train, y_train)\n",
    "\n",
    "pred  = model.predict(X_test)\n",
    "\n",
    "print(classification_report(y_test,pred))\n",
    "print(confusion_matrix(y_test,pred))"
   ]
  },
  {
   "cell_type": "code",
   "execution_count": null,
   "metadata": {},
   "outputs": [],
   "source": []
  },
  {
   "cell_type": "code",
   "execution_count": null,
   "metadata": {},
   "outputs": [],
   "source": []
  }
 ],
 "metadata": {
  "kernelspec": {
   "display_name": "Python 3",
   "language": "python",
   "name": "python3"
  },
  "language_info": {
   "codemirror_mode": {
    "name": "ipython",
    "version": 3
   },
   "file_extension": ".py",
   "mimetype": "text/x-python",
   "name": "python",
   "nbconvert_exporter": "python",
   "pygments_lexer": "ipython3",
   "version": "3.8.8"
  },
  "vscode": {
   "interpreter": {
    "hash": "b8d1cba4ea21f6efdde841927ff33093a06bda89e746888d01c3f557df9af043"
   }
  }
 },
 "nbformat": 4,
 "nbformat_minor": 4
}
